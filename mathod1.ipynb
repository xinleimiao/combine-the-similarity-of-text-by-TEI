{
  "nbformat": 4,
  "nbformat_minor": 0,
  "metadata": {
    "colab": {
      "name": "Untitled3.ipynb",
      "provenance": [],
      "collapsed_sections": [],
      "authorship_tag": "ABX9TyMxv5SNKNSKSycnjYoyFbii",
      "include_colab_link": true
    },
    "kernelspec": {
      "name": "python3",
      "display_name": "Python 3"
    },
    "language_info": {
      "name": "python"
    }
  },
  "cells": [
    {
      "cell_type": "markdown",
      "metadata": {
        "id": "view-in-github",
        "colab_type": "text"
      },
      "source": [
        "<a href=\"https://colab.research.google.com/github/xinleimiao/combine-the-similarity-of-text-by-TEI/blob/main/mathod1.ipynb\" target=\"_parent\"><img src=\"https://colab.research.google.com/assets/colab-badge.svg\" alt=\"Open In Colab\"/></a>"
      ]
    },
    {
      "cell_type": "code",
      "metadata": {
        "colab": {
          "base_uri": "https://localhost:8080/"
        },
        "id": "Ii_iGZM13Ksz",
        "outputId": "b1ce5501-5a03-4e9f-e938-889c775d9d7d"
      },
      "source": [
        "import numpy as np\n",
        "\n",
        "\n",
        "txt1 = np.array([[1,2,3,4,5,6,7,8,9],\n",
        "                 [1,2,3,0,5,6,7,8,9],\n",
        "                 [1,0,3,4,5,6,7,8,9],\n",
        "                 [0,2,3,4,5,0,7,8,9],\n",
        "                 [0,0,0,0,5,6,0,8,0],\n",
        "                 [0,2,3,4,0,6,7,0,9]]);\n",
        "txt2 = np.array([[0,2,3,4,5,6,7,8,9],\n",
        "                 [1,2,3,0,5,6,7,8,9],\n",
        "                 [1,0,3,4,5,6,7,8,9],\n",
        "                 [0,2,3,4,5,0,7,8,9],\n",
        "                 [0,0,0,0,5,6,0,8,0],\n",
        "                 [0,2,3,4,0,6,7,0,9]]);\n",
        "\n",
        "# # According to the example text format stores the corresponding bit whether the character exists.\n",
        "# cmPr1 = np.zeros((6, 10), dtype = int);\n",
        "# cmPr2 = np.zeros((6, 10), dtype = int);\n",
        "\n",
        "# smLr12 = np.zeros((6, 10), dtype = int);\n",
        "\n",
        "# Iterates through the text, specifying that the two text lines have \n",
        "# the same number of rows. If there is a space (that is, no character,which is \"0\" in temp), \n",
        "# add the number 1 to the reference array, and if there is a character, \n",
        "# add the number 0 to the reference array.\n",
        "\n",
        "def sm_unsm(txt1,txt2):\n",
        "  # According to the example text format stores the corresponding bit whether the character exists.\n",
        "  cmPr1 = np.zeros((6, 9), dtype = int);\n",
        "  cmPr2 = np.zeros((6, 9), dtype = int);\n",
        "\n",
        "  smLr12 = np.zeros((6, 9), dtype = int);\n",
        "  for i in range(len(txt1)):\n",
        "    for j in range(len(txt1[i])):\n",
        "      if (txt1[i][j] == 0):\n",
        "        cmPr1[i][j] = 1;\n",
        "      else:\n",
        "        cmPr1[i][j] = 0;\n",
        "  print(cmPr1);\n",
        "  \n",
        "\n",
        "\n",
        "  for n in range(len(txt2)):\n",
        "    for m in range(len(txt2[n])):\n",
        "      if (txt2[n][m] == 0):\n",
        "        cmPr2[n][m] = 1;\n",
        "      else:\n",
        "        cmPr2[n][m] = 0;\n",
        "  print(cmPr2);\n",
        "\n",
        "\n",
        "# Compare the similarity of two contrast arrays. By bit comparison, \n",
        "# if both bits are 0 or 2, it is judged that the bits are similar, \n",
        "# and the same variable is added by one. If the values at the same position \n",
        "# in two arrays do not add up to 0 or 2, \n",
        "# the bits are determined to be dissimilar. The final similarity rate \n",
        "# is obtained by dividing the number of similar digits by the total number of digits.\n",
        "\n",
        "  same = 0;\n",
        "  uNsame = 0;\n",
        "  for x in range(len(cmPr1)):\n",
        "    for y in range(len(cmPr1[x])):\n",
        "      smLr12[x][y] = cmPr1[x][y] + cmPr2[x][y];\n",
        "      if (smLr12[x][y] == 0 or smLr12[x][y] == 2):\n",
        "        same = same+1;\n",
        "      else:\n",
        "        uNsame = uNsame+1;\n",
        "    rate_same = same/54; \n",
        "                      #  The similarity ratio is equal to the total number of \n",
        "  #                      similar elements divided by the total number of characters (including Spaces) \n",
        "  #                      in the text (that is, rows by columns).\n",
        "  print(rate_same);\n",
        "\n",
        "sm_unsm(txt1,txt2);\n",
        "\n",
        "\n",
        "\n",
        "\n",
        "\n",
        "\n"
      ],
      "execution_count": 1,
      "outputs": [
        {
          "output_type": "stream",
          "text": [
            "[[0 0 0 0 0 0 0 0 0]\n",
            " [0 0 0 1 0 0 0 0 0]\n",
            " [0 1 0 0 0 0 0 0 0]\n",
            " [1 0 0 0 0 1 0 0 0]\n",
            " [1 1 1 1 0 0 1 0 1]\n",
            " [1 0 0 0 1 0 0 1 0]]\n",
            "[[1 0 0 0 0 0 0 0 0]\n",
            " [0 0 0 1 0 0 0 0 0]\n",
            " [0 1 0 0 0 0 0 0 0]\n",
            " [1 0 0 0 0 1 0 0 0]\n",
            " [1 1 1 1 0 0 1 0 1]\n",
            " [1 0 0 0 1 0 0 1 0]]\n",
            "0.9814814814814815\n"
          ],
          "name": "stdout"
        }
      ]
    },
    {
      "cell_type": "code",
      "metadata": {
        "id": "A4bfXp24TmUM"
      },
      "source": [
        "()"
      ],
      "execution_count": null,
      "outputs": []
    },
    {
      "cell_type": "code",
      "metadata": {
        "id": "bREPCmPATmYx"
      },
      "source": [
        ""
      ],
      "execution_count": null,
      "outputs": []
    }
  ]
}